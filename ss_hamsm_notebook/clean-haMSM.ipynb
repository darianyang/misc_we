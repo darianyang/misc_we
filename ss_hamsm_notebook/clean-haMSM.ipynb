{
 "cells": [
  {
   "cell_type": "markdown",
   "id": "294f9212-434b-4050-8510-30293085cbcf",
   "metadata": {},
   "source": [
    "# Loading data"
   ]
  },
  {
   "cell_type": "code",
   "execution_count": null,
   "id": "d0f1aa70-22e2-461e-9f0d-2f73cb877b82",
   "metadata": {
    "execution": {
     "iopub.execute_input": "2021-10-04T22:16:30.526965Z",
     "iopub.status.busy": "2021-10-04T22:16:30.526400Z",
     "iopub.status.idle": "2021-10-04T22:16:30.997592Z",
     "shell.execute_reply": "2021-10-04T22:16:30.996966Z",
     "shell.execute_reply.started": "2021-10-04T22:16:30.526913Z"
    },
    "tags": []
   },
   "outputs": [],
   "source": [
    "import numpy as np\n",
    "from matplotlib import pyplot as plt\n",
    "import h5py\n",
    "import tqdm.auto"
   ]
  },
  {
   "cell_type": "code",
   "execution_count": null,
   "id": "a95dbc8c",
   "metadata": {},
   "outputs": [],
   "source": [
    "pwd"
   ]
  },
  {
   "cell_type": "code",
   "execution_count": null,
   "id": "6fb4bcb7-324b-4e07-9c3a-5927fd56b175",
   "metadata": {
    "execution": {
     "iopub.execute_input": "2021-10-04T22:17:25.864239Z",
     "iopub.status.busy": "2021-10-04T22:17:25.863892Z",
     "iopub.status.idle": "2021-10-04T22:17:25.868329Z",
     "shell.execute_reply": "2021-10-04T22:17:25.867113Z",
     "shell.execute_reply.started": "2021-10-04T22:17:25.864207Z"
    },
    "tags": []
   },
   "outputs": [],
   "source": [
    "from  msm_we import msm_we\n",
    "import mdtraj as md"
   ]
  },
  {
   "cell_type": "code",
   "execution_count": null,
   "id": "bd0b9c70",
   "metadata": {},
   "outputs": [],
   "source": [
    "import ray\n",
    "ray.init()"
   ]
  },
  {
   "cell_type": "code",
   "execution_count": null,
   "id": "90d89c17",
   "metadata": {},
   "outputs": [],
   "source": [
    "#ray.shutdown()"
   ]
  },
  {
   "cell_type": "code",
   "execution_count": null,
   "id": "ef3b04fb-8637-40f5-96e1-a6415ea85dfb",
   "metadata": {
    "execution": {
     "iopub.execute_input": "2021-10-04T22:16:32.485959Z",
     "iopub.status.busy": "2021-10-04T22:16:32.485710Z",
     "iopub.status.idle": "2021-10-04T22:16:32.490232Z",
     "shell.execute_reply": "2021-10-04T22:16:32.489152Z",
     "shell.execute_reply.started": "2021-10-04T22:16:32.485937Z"
    },
    "tags": []
   },
   "outputs": [],
   "source": [
    "import logging\n",
    "from rich.logging import RichHandler\n",
    "log = logging.getLogger()\n",
    "log.addHandler(RichHandler())\n",
    "\n",
    "msm_log = logging.getLogger(\"msm_we.msm_we\")"
   ]
  },
  {
   "cell_type": "code",
   "execution_count": null,
   "id": "1885f382",
   "metadata": {},
   "outputs": [],
   "source": [
    "def processCoordinates(self, coords):\n",
    "#     log.debug(\"Processing coordinates\")\n",
    "\n",
    "    if self.dimReduceMethod == \"none\":\n",
    "        xt = md.Trajectory(xyz=coords, topology=None)\n",
    "        indCA = self.reference_structure.topology.select(\"not type H and (resid 5 to 17 or resid 23 to 35 or resid 40 to 53)\")\n",
    "        indAlign = self.reference_structure.topology.select(\"not type H and resid 40 to 53\")\n",
    "        x2 = xt.superpose(self.reference_structure,atom_indices=indAlign)\n",
    "        coords = x2._xyz.astype('float64')\n",
    "        nA = np.shape(indCA)[0]\n",
    "        nC = np.shape(coords)[0]\n",
    "        new_coords = coords[:,tuple(indCA),:]\n",
    "        #new_coords = numpy.double(new_coords)\n",
    "        #new_coords = coords[:, :923, :]\n",
    "        data = new_coords.reshape(nC, 3 * nA)\n",
    "        model.nAtoms = nA\n",
    "        return data\n",
    "\n",
    "    if self.dimReduceMethod == \"pca\" or self.dimReduceMethod == \"vamp\":\n",
    "\n",
    "        # Dimensionality reduction\n",
    "\n",
    "        xt = md.Trajectory(xyz=coords, topology=None)\n",
    "        indCA = self.reference_structure.topology.select(\"name CA and (resid 5 to 17 or resid 23 to 35 or resid 40 to 53)\")\n",
    "\n",
    "        #indCA = self.reference_structure.topology.select(\"not type H and (resid 5 to 17 or resid 23 to 35 or resid 40 to 53)\")\n",
    "        #indCA = self.reference_structure.topology.select(\"name CA\")\n",
    "        pair1, pair2 = np.meshgrid(indCA, indCA, indexing=\"xy\")\n",
    "        indUT = np.where(np.triu(pair1, k=1) > 0)\n",
    "        pairs = np.transpose(np.array([pair1[indUT], pair2[indUT]])).astype(int)\n",
    "        dist = md.compute_distances(xt, pairs, periodic=True, opt=True)\n",
    "\n",
    "        return dist\n",
    "    \n",
    "msm_we.modelWE.processCoordinates = processCoordinates"
   ]
  },
  {
   "cell_type": "markdown",
   "id": "bbcfa5d0-becf-4fc3-831e-15fc3c7a206d",
   "metadata": {},
   "source": [
    "## Build block-wise haMSMs"
   ]
  },
  {
   "cell_type": "markdown",
   "id": "9e09a7eb-21df-4786-8241-8b7a9859c8a2",
   "metadata": {},
   "source": [
    "Build the model"
   ]
  },
  {
   "cell_type": "code",
   "execution_count": null,
   "id": "730edafe",
   "metadata": {},
   "outputs": [],
   "source": [
    "# 'uneven_bin' for zero2 (and 3)\n",
    "import westpa\n",
    "from westpa.core.binning import RectilinearBinMapper\n",
    "import numpy as np\n",
    "\n",
    "new_mapper = RectilinearBinMapper([[ 0.  ,  2.  ,  2.4 , 2.45, 2.5725, 2.75,2.825, 2.9,  3.05  ,\n",
    "                                    3.1, 3.15,3.2, 3.25,3.3,3.35,3.4,\n",
    "                                    3.5,  3.6, 3.7 , 3.75, 3.8 ,  3.85,  3.9 ,  3.95,  4.  , 4.05,\n",
    "                                    4.1 , 4.15, 4.2 , 4.25, 4.3 ,  4.4 ,  4.5 ,  4.6 ,  4.7 ,  4.8 ,  4.9 ,\n",
    "                                    5.  ,  5.25,  5.5 ,  5.75,  6.  ,  6.25,  6.5 ,  6.75,  7.  ,\n",
    "                                    7.5 , 8,9,10,11, 12.5,15, 21.  ,   np.inf]])"
   ]
  },
  {
   "cell_type": "code",
   "execution_count": null,
   "id": "107fb8b9-f01c-484e-b2e6-0532797e3340",
   "metadata": {
    "execution": {
     "iopub.execute_input": "2021-10-04T22:17:28.666314Z",
     "iopub.status.busy": "2021-10-04T22:17:28.666021Z"
    },
    "tags": []
   },
   "outputs": [],
   "source": [
    "h5_glob = ['restart3_scikit_nowat/run1/west.h5','restart3_scikit_nowat/run2/west.h5','restart3_scikit_nowat/run3/west.h5',\n",
    "           'restart4_scikit_nowat/run1/west.h5','restart4_scikit_nowat/run2/west.h5','restart4_scikit_nowat/run3/west.h5',\n",
    "           'restart5_scikit_nowat/run1/west.h5','restart5_scikit_nowat/run2/west.h5','restart5_scikit_nowat/run3/west.h5',]\n",
    "\n",
    "\n",
    "model =  msm_we.modelWE()\n",
    "model.initialize(\n",
    "    fileSpecifier=h5_glob, \n",
    "    refPDBfile = 'wsh2029_eq3_noions.pdb',\n",
    "    modelName = 'BdpA_wsh2029_p3',\n",
    "    target_pcoord_bounds = [[0,2.5]],\n",
    "    #basis_pcoord_bounds  = [[12.5,np.inf]],\n",
    "    basis_pcoord_bounds  = [[15,np.inf]],\n",
    "    dim_reduce_method = 'vamp',\n",
    "    tau = 1e-10,\n",
    ")\n",
    "\n",
    "model.get_iterations()\n",
    "model.get_coordSet(model.maxIter)\n",
    "#model.get_traj_coordinates(from_iter=1, traj_le)"
   ]
  },
  {
   "cell_type": "code",
   "execution_count": null,
   "id": "39807e95",
   "metadata": {},
   "outputs": [],
   "source": [
    "model.maxIter"
   ]
  },
  {
   "cell_type": "code",
   "execution_count": null,
   "id": "595d37f3",
   "metadata": {
    "scrolled": true
   },
   "outputs": [],
   "source": [
    "model.target_pcoord_bounds"
   ]
  },
  {
   "cell_type": "markdown",
   "id": "b26f9a96-59ed-42be-a3ef-25ae2e74535c",
   "metadata": {},
   "source": [
    "PCA on all the data"
   ]
  },
  {
   "cell_type": "code",
   "execution_count": null,
   "id": "08d8fef4",
   "metadata": {},
   "outputs": [],
   "source": [
    "logging.getLogger('msm_we.msm_we').setLevel('DEBUG')"
   ]
  },
  {
   "cell_type": "code",
   "execution_count": null,
   "id": "a13dc0ba-1545-4085-81da-1fcd0f31ab9c",
   "metadata": {
    "execution": {
     "iopub.execute_input": "2021-10-04T22:17:28.666314Z",
     "iopub.status.busy": "2021-10-04T22:17:28.666021Z"
    },
    "tags": []
   },
   "outputs": [],
   "source": [
    "model.dimReduce()"
   ]
  },
  {
   "cell_type": "code",
   "execution_count": null,
   "id": "fe18861b",
   "metadata": {},
   "outputs": [],
   "source": [
    "# For loading the clustered model data\n",
    "from pickle import load\n",
    "with open('NEW-MSMWE_clustering_scikit_c400_uneven_bin_heavy_step0-restart345-t3.pickle', 'rb') as fo:\n",
    "    model = load(fo)"
   ]
  },
  {
   "cell_type": "code",
   "execution_count": null,
   "id": "02f8b869",
   "metadata": {},
   "outputs": [],
   "source": [
    "# For saving the clustered model data\n",
    "from pickle import dump\n",
    "with open('NEW-MSMWE_clustering_scikit_c400_uneven_bin_heavy_step0-restart345-t3.pickle', 'wb') as fo:\n",
    "    dump(model, fo)"
   ]
  },
  {
   "cell_type": "markdown",
   "id": "3f988aec-b704-4466-9227-581eb3c2cc57",
   "metadata": {},
   "source": [
    "Cluster on all the data, and store the original clustering."
   ]
  },
  {
   "cell_type": "code",
   "execution_count": null,
   "id": "26f5c1f7-6224-44b8-96f5-106fb64a05df",
   "metadata": {
    "execution": {
     "iopub.execute_input": "2021-10-04T22:18:48.965803Z",
     "iopub.status.busy": "2021-10-04T22:18:48.965579Z",
     "iopub.status.idle": "2021-10-04T22:19:33.872039Z",
     "shell.execute_reply": "2021-10-04T22:19:33.870902Z",
     "shell.execute_reply.started": "2021-10-04T22:18:48.965780Z"
    },
    "tags": []
   },
   "outputs": [],
   "source": [
    "# Fresh clustering\n",
    "model.cluster_coordinates(n_clusters=400, tol = 1e-5, streaming=True, use_ray=True, user_bin_mapper=new_mapper, store_validation_model=True)"
   ]
  },
  {
   "cell_type": "code",
   "execution_count": null,
   "id": "dd43b192",
   "metadata": {},
   "outputs": [],
   "source": [
    "# For loading the clustered model data\n",
    "from pickle import load\n",
    "with open('NEW-MSMWE_clustering_scikit_c400_uneven_bin_heavy_step1-restart345-t3.pickle', 'rb') as fo:\n",
    "    model = load(fo)"
   ]
  },
  {
   "cell_type": "code",
   "execution_count": null,
   "id": "dc29a985",
   "metadata": {},
   "outputs": [],
   "source": [
    "# For saving the clustered model data\n",
    "from pickle import dump\n",
    "with open('NEW-MSMWE_clustering_scikit_c400_uneven_bin_heavy_step1-restart345-t3.pickle', 'wb') as fo:\n",
    "    dump(model, fo)"
   ]
  },
  {
   "cell_type": "code",
   "execution_count": null,
   "id": "23997d17",
   "metadata": {},
   "outputs": [],
   "source": [
    "model.n_clusters"
   ]
  },
  {
   "cell_type": "code",
   "execution_count": null,
   "id": "14ac6d08",
   "metadata": {},
   "outputs": [],
   "source": [
    "model.get_fluxMatrix(0,1,300,use_ray=True)"
   ]
  },
  {
   "cell_type": "code",
   "execution_count": null,
   "id": "7be37579",
   "metadata": {},
   "outputs": [],
   "source": [
    "# For loading the clustered model data\n",
    "from pickle import load\n",
    "with open('NEW-MSMWE_clustering_scikit_c200_uneven_bin_heavy_step2-restart345-t3.pickle', 'rb') as fo:\n",
    "    model = load(fo)"
   ]
  },
  {
   "cell_type": "code",
   "execution_count": null,
   "id": "636a6537",
   "metadata": {},
   "outputs": [],
   "source": [
    "# For saving the clustered model data\n",
    "from pickle import dump\n",
    "with open('NEW-MSMWE_clustering_scikit_c400_uneven_bin_heavy_step2-restart345-t3.pickle', 'wb') as fo:\n",
    "    dump(model, fo)"
   ]
  },
  {
   "cell_type": "code",
   "execution_count": null,
   "id": "6f4443ad",
   "metadata": {},
   "outputs": [],
   "source": [
    "model.organize_fluxMatrix(use_ray=True)"
   ]
  },
  {
   "cell_type": "code",
   "execution_count": null,
   "id": "c8abaac0",
   "metadata": {},
   "outputs": [],
   "source": [
    "# For loading the clustered model data\n",
    "from pickle import load\n",
    "with open('NEW-MSMWE_clustering_scikit_c200_uneven_bin_heavy_step3-restart345-t2.pickle', 'rb') as fo:\n",
    "    model = load(fo)\n",
    "    \n",
    "# NEW-MSMWE_clustering_scikit_c200_uneven_bin_heavy_step3-restart345-t2.pickle"
   ]
  },
  {
   "cell_type": "code",
   "execution_count": null,
   "id": "2970f11d",
   "metadata": {},
   "outputs": [],
   "source": [
    "# For saving the clustered model data\n",
    "from pickle import dump\n",
    "with open('NEW-MSMWE_clustering_scikit_c400_uneven_bin_heavy_step3-restart345-t3.pickle', 'wb') as fo:\n",
    "    dump(model, fo)"
   ]
  },
  {
   "cell_type": "code",
   "execution_count": null,
   "id": "f00e1846",
   "metadata": {},
   "outputs": [],
   "source": [
    "model.fluxMatrix"
   ]
  },
  {
   "cell_type": "code",
   "execution_count": null,
   "id": "41966e11",
   "metadata": {},
   "outputs": [],
   "source": [
    "model.get_Tmatrix()"
   ]
  },
  {
   "cell_type": "code",
   "execution_count": null,
   "id": "33456cbd",
   "metadata": {},
   "outputs": [],
   "source": [
    "model.Tmatrix"
   ]
  },
  {
   "cell_type": "code",
   "execution_count": null,
   "id": "2cd76313",
   "metadata": {},
   "outputs": [],
   "source": [
    "model.get_steady_state()"
   ]
  },
  {
   "cell_type": "code",
   "execution_count": null,
   "id": "c7f64226",
   "metadata": {},
   "outputs": [],
   "source": [
    "# For checking just in case your bins are not good.\n",
    "array = np.squeeze(model.targetRMSD_minmax, axis=1)\n",
    "print(array[23],array[142],array[132],array[142],array[148],array[151])"
   ]
  },
  {
   "cell_type": "code",
   "execution_count": null,
   "id": "3847f31d",
   "metadata": {},
   "outputs": [],
   "source": [
    "model.update_cluster_structures()"
   ]
  },
  {
   "cell_type": "code",
   "execution_count": null,
   "id": "b1c2fdd5",
   "metadata": {},
   "outputs": [],
   "source": [
    "model.get_steady_state_target_flux()\n",
    "\n",
    "print(f'Steady-state target rate is {model.JtargetSS:.2e}')"
   ]
  },
  {
   "cell_type": "markdown",
   "id": "406d7d89",
   "metadata": {},
   "source": [
    "# Validation"
   ]
  },
  {
   "cell_type": "code",
   "execution_count": null,
   "id": "4f833553",
   "metadata": {},
   "outputs": [],
   "source": [
    "array = np.squeeze(model.targetRMSD_minmax, axis=1)\n",
    "array"
   ]
  },
  {
   "cell_type": "code",
   "execution_count": null,
   "id": "ab9d062c",
   "metadata": {},
   "outputs": [],
   "source": [
    "import matplotlib.pyplot as plt\n",
    "plt.rcParams['figure.figsize'] = [20, 10]\n",
    "# len-2 because the last two are NaN (eq simulation; target/basis states)\n",
    "for idx in range(0,len(array)):\n",
    "    plt.errorbar(idx, array[idx,0],yerr=[[0],[array[idx,1]-array[idx,0]]])\n",
    "    #plt.plot(idx, array[idx,1], 'ro')\n",
    "plt.xlabel('cluster number')\n",
    "plt.ylabel('RMSD to target state')\n",
    "plt.title('MSM Bins Coverage Versus Progress Coordinates')"
   ]
  },
  {
   "cell_type": "code",
   "execution_count": null,
   "id": "f3eadb51",
   "metadata": {},
   "outputs": [],
   "source": [
    "model.plot_flux(suppress_validation=True)"
   ]
  },
  {
   "cell_type": "code",
   "execution_count": null,
   "id": "9c93eb47",
   "metadata": {},
   "outputs": [],
   "source": [
    "model.get_committor()"
   ]
  },
  {
   "cell_type": "code",
   "execution_count": null,
   "id": "780e7d8a",
   "metadata": {},
   "outputs": [],
   "source": [
    "model.plot_committor()"
   ]
  },
  {
   "cell_type": "code",
   "execution_count": null,
   "id": "aadba8d1",
   "metadata": {},
   "outputs": [],
   "source": [
    "model.targetRMSD_centers[:,0]"
   ]
  },
  {
   "cell_type": "code",
   "execution_count": null,
   "id": "a6c529b8",
   "metadata": {},
   "outputs": [],
   "source": [
    "model.q"
   ]
  },
  {
   "cell_type": "code",
   "execution_count": null,
   "id": "6a2bb667",
   "metadata": {},
   "outputs": [],
   "source": [
    "model.plot_flux_committor(suppress_validation=True)\n",
    "plt.gca().set_xscale('linear')\n",
    "#plt.savefig('flux_pseudo_uneven_bin-restart34-t2-c18.png')"
   ]
  },
  {
   "cell_type": "code",
   "execution_count": null,
   "id": "a607231c",
   "metadata": {},
   "outputs": [],
   "source": [
    "# For loading the clustered model data\n",
    "from pickle import load\n",
    "with open('NEW-MSMWE_clustering_scikit_c200_uneven_bin_heavy_step4-restart345-t2.pickle', 'rb') as fo:\n",
    "    model = load(fo)"
   ]
  },
  {
   "cell_type": "code",
   "execution_count": null,
   "id": "3fcf58ba",
   "metadata": {},
   "outputs": [],
   "source": [
    "## For saving the clustered model data\n",
    "from pickle import dump\n",
    "with open('NEW-MSMWE_clustering_scikit_c400_uneven_bin_heavy_step4-restart345-t3.pickle', 'wb') as fo:\n",
    "    dump(model, fo)"
   ]
  },
  {
   "cell_type": "markdown",
   "id": "a0451178",
   "metadata": {},
   "source": [
    "# Post-Featurization Steps"
   ]
  },
  {
   "cell_type": "code",
   "execution_count": null,
   "id": "580549e1",
   "metadata": {},
   "outputs": [],
   "source": [
    "model.do_block_validation(cross_validation_groups=2, cross_validation_blocks=8)#, skip=[1])"
   ]
  },
  {
   "cell_type": "code",
   "execution_count": null,
   "id": "c99dcf95",
   "metadata": {},
   "outputs": [],
   "source": [
    "from copy import deepcopy\n",
    "do_block_validation(self=model, cross_validation_groups=2, cross_validation_blocks=8, use_ray=True)"
   ]
  },
  {
   "cell_type": "code",
   "execution_count": null,
   "id": "db5e5ee2",
   "metadata": {},
   "outputs": [],
   "source": [
    "# For loading the clustered model data\n",
    "from pickle import load\n",
    "with open('clustering_scikit_c18_uneven_bin_heavy_step5-restart34-zero7.pickle', 'rb') as fo:\n",
    "    model = load(fo)"
   ]
  },
  {
   "cell_type": "code",
   "execution_count": null,
   "id": "a654f179",
   "metadata": {},
   "outputs": [],
   "source": [
    "# For saving the clustered model data\n",
    "from pickle import dump\n",
    "with open('NEW-MSMWE_clustering_scikit_c200_uneven_bin_heavy_step5-restart345-t3.pickle', 'wb') as fo:\n",
    "    dump(model, fo)"
   ]
  },
  {
   "cell_type": "code",
   "execution_count": null,
   "id": "e359229f",
   "metadata": {},
   "outputs": [],
   "source": []
  },
  {
   "cell_type": "markdown",
   "id": "edb18507",
   "metadata": {},
   "source": [
    "# Block Validation Rates"
   ]
  },
  {
   "cell_type": "code",
   "execution_count": null,
   "id": "98cc8b32",
   "metadata": {},
   "outputs": [],
   "source": [
    "for i in range(len(model.validation_models)):\n",
    "    model.validation_models[i].get_steady_state_target_flux()\n",
    "\n",
    "    print(f'Steady-state target rate is {model.validation_models[i].JtargetSS:.2e} for model {i}')"
   ]
  },
  {
   "cell_type": "code",
   "execution_count": null,
   "id": "24f8cc6a",
   "metadata": {},
   "outputs": [],
   "source": [
    "import numpy\n",
    "list_of_rates = [model.JtargetSS, model.validation_models[0].JtargetSS, model.validation_models[1].JtargetSS]\n",
    "print(numpy.std(list_of_rates))\n",
    "print(numpy.average(list_of_rates))"
   ]
  },
  {
   "cell_type": "code",
   "execution_count": null,
   "id": "d439d73e",
   "metadata": {},
   "outputs": [],
   "source": [
    "for i in range(len(model.validation_models)):\n",
    "    model.validation_models[i].get_steady_state_target_flux()\n",
    "\n",
    "    print(f'Steady-state target rate is {model.validation_models[i].JtargetSS:.2e} for model {i}')"
   ]
  },
  {
   "cell_type": "code",
   "execution_count": null,
   "id": "2fec42c3",
   "metadata": {},
   "outputs": [],
   "source": [
    "import numpy\n",
    "list_of_rates = [model.JtargetSS, model.validation_models[0].JtargetSS, model.validation_models[1].JtargetSS]\n",
    "print(numpy.std(list_of_rates))\n",
    "print(numpy.average(list_of_rates))"
   ]
  },
  {
   "cell_type": "code",
   "execution_count": null,
   "id": "ce0b4adf",
   "metadata": {},
   "outputs": [],
   "source": [
    "ray.shutdown()"
   ]
  },
  {
   "cell_type": "markdown",
   "id": "766b0fc5",
   "metadata": {},
   "source": [
    "# Block Validation Output"
   ]
  },
  {
   "cell_type": "code",
   "execution_count": null,
   "id": "ff8242a2",
   "metadata": {},
   "outputs": [],
   "source": [
    "import weight_loop\n",
    "for idx, v_model in enumerate(model.validation_models):\n",
    "    if idx == 0:\n",
    "        continue\n",
    "    weight_loop.create_reweighted_h5_global(v_model,new_name=f'west_reweight_c10_block_to20_v2-try2_v{idx}.h5')"
   ]
  },
  {
   "cell_type": "markdown",
   "id": "f05d99d9",
   "metadata": {},
   "source": [
    "# Main model Output"
   ]
  },
  {
   "cell_type": "code",
   "execution_count": null,
   "id": "a51eccb0",
   "metadata": {},
   "outputs": [],
   "source": [
    "import weight_loop\n",
    "\n",
    "weight_loop.create_reweighted_h5_global(model, west_name='west_nocoords.h5', copy=True, struct_filetype='ncrst', new_name=f'west_reweight.h5', gen_sstates=True, pdb_out=False, link_out=True, link_path=\"/ocean/projects/mcb180038p/jml230/bdpa_wsh2029_p3_r3\",)"
   ]
  },
  {
   "cell_type": "code",
   "execution_count": null,
   "id": "350da496",
   "metadata": {},
   "outputs": [],
   "source": [
    "import weight_loop\n",
    "\n",
    "weight_loop.create_reweighted_h5_global(model, west_name='west_nocoords.h5', copy=True, struct_filetype='ncrst', new_name=f'west_restart345_reweight-vamp.h5', gen_sstates=False, pdb_out=False, link_out=False, link_path=\"/ocean/projects/mcb180038p/jml230/bdpa_wsh2029_p3_r3\",)"
   ]
  },
  {
   "cell_type": "code",
   "execution_count": null,
   "id": "3645a8f4",
   "metadata": {},
   "outputs": [],
   "source": []
  },
  {
   "cell_type": "markdown",
   "id": "ec29f1e9",
   "metadata": {},
   "source": [
    "# Extract transition state (pseudo-committor of a certain range)"
   ]
  },
  {
   "cell_type": "code",
   "execution_count": null,
   "id": "a668b46a",
   "metadata": {},
   "outputs": [],
   "source": [
    "# Parsing through the list so we get the real seg number (and the file number as well)\n",
    "import h5py\n",
    "from copy import deepcopy\n",
    "import numpy\n",
    "\n",
    "def output_pseudocommittor(lower, upper, both):\n",
    "    # Finding all the iter/seg_index\n",
    "    output = []\n",
    "    for j in range(0, len(model.dtrajs)):\n",
    "        val = numpy.argwhere(numpy.isin(model.dtrajs[j], both))\n",
    "        #print(j+1, numpy.squeeze(val,axis=1))\n",
    "        output.append([j+1, numpy.squeeze(val, axis=1)])\n",
    "    output2 = [[val[0], seg] for val in output for seg in val[1]]\n",
    "    #output2\n",
    "\n",
    "    file_list = []\n",
    "    for file in model.fileList:\n",
    "        with h5py.File(file,'r') as f:\n",
    "            file_list.append(f['summary']['n_particles'])\n",
    "\n",
    "    output3 = deepcopy(output2)\n",
    "\n",
    "    for j in output3:\n",
    "        seg_index = j[1]\n",
    "        tol = 0\n",
    "        for i in range(0,len(file_list)):\n",
    "            tol += file_list[i][j[0]-1]\n",
    "            #print(i, tol, seg_index)\n",
    "            if seg_index < tol:\n",
    "                #print('break')\n",
    "                break\n",
    "            #print(tol)\n",
    "        if i != 0: \n",
    "            #print('here')\n",
    "            tol -= file_list[i][j[0]-1]\n",
    "            j[1] -= tol\n",
    "        else:\n",
    "            j[1] = seg_index\n",
    "        j.insert(0,i+1)\n",
    "\n",
    "    output3 = numpy.asarray(output3)\n",
    "    with open(f'transition_state/validation_models/transition_state_a_{lower}to{upper}.npy','wb') as fo:\n",
    "        numpy.save(fo,output3)\n",
    "    output3"
   ]
  },
  {
   "cell_type": "code",
   "execution_count": null,
   "id": "856697a3",
   "metadata": {},
   "outputs": [],
   "source": [
    "import h5py\n",
    "from copy import deepcopy\n",
    "import numpy as np\n",
    "import numpy\n",
    "from tqdm.auto import tqdm\n",
    "ranges = [(0,0.2), (0.2,0.4),(0.4,0.6),(0.6,0.8),(0.8,1), (0,0.1),(0.1,0.2),(0.8,0.9),(0.9,1), (0,0.3), (0.3,0.6),(0.6,1),(0.45,0.55)]\n",
    "#ranges = [(0.4,0.6),(0.45,0.55)]\n",
    "#ranges = [(0.35,0.45)]\n",
    "\n",
    "# specify upper, lower range.\n",
    "for val in tqdm(ranges):\n",
    "    under = np.argwhere(model.q < val[1])\n",
    "    over = np.argwhere(model.q > val[0])\n",
    "\n",
    "    both = [i for [i] in under if i in over]\n",
    "    both\n",
    "    output_pseudocommittor(val[0],val[1],both)"
   ]
  },
  {
   "cell_type": "code",
   "execution_count": null,
   "id": "8d8d35e7",
   "metadata": {},
   "outputs": [],
   "source": [
    "# Parsing through the list so we get the real seg number (and the file number as well)\n",
    "import h5py\n",
    "from copy import deepcopy\n",
    "import numpy\n",
    "\n",
    "def output_validation_pseudocommittor(lower, upper, both, x):\n",
    "    # Finding all the iter/seg_index\n",
    "    output = []\n",
    "    for j in range(0, len(model.validation_models[x].dtrajs)):\n",
    "        val = numpy.argwhere(numpy.isin(model.validation_models[x].dtrajs[j], both))\n",
    "        #print(j+1, numpy.squeeze(val,axis=1))\n",
    "        output.append([j+1, numpy.squeeze(val, axis=1)])\n",
    "    #print(output)\n",
    "    output2 = [[val[0], seg] for val in output for seg in val[1] if val[0] in model.validation_iterations[x]]\n",
    "    print(output2)\n",
    "\n",
    "    file_list = []\n",
    "    for file in model.fileList:\n",
    "        with h5py.File(file,'r') as f:\n",
    "            file_list.append(f['summary']['n_particles'])\n",
    "\n",
    "    #print(file_list)\n",
    "    output3 = deepcopy(output2)\n",
    "\n",
    "    for j in output3:\n",
    "        seg_index = j[1]\n",
    "        tol = 0\n",
    "        for i in range(0,len(file_list)):\n",
    "            tol += file_list[i][j[0]-1]\n",
    "            #print(i, tol, seg_index)\n",
    "            if seg_index < tol:\n",
    "                #print('break')\n",
    "                break\n",
    "            #print(tol)\n",
    "        if i != 0: \n",
    "            #print('here')\n",
    "            tol -= file_list[i][j[0]-1]\n",
    "            j[1] -= tol\n",
    "        else:\n",
    "            j[1] = seg_index\n",
    "        j.insert(0,i+1)\n",
    "\n",
    "    output3 = numpy.asarray(output3)\n",
    "    with open(f'transition_state/validation_models/transition_state_validation{x}_{lower}to{upper}.npy','wb') as fo:\n",
    "        numpy.save(fo,output3)\n",
    "    output3"
   ]
  },
  {
   "cell_type": "code",
   "execution_count": null,
   "id": "6631f64c",
   "metadata": {},
   "outputs": [],
   "source": [
    "import h5py\n",
    "from copy import deepcopy\n",
    "import numpy as np\n",
    "import numpy\n",
    "from tqdm.auto import tqdm,trange\n",
    "ranges = [(0,0.2), (0.2,0.4),(0.4,0.6),(0.6,0.8),(0.8,1), (0,0.1),(0.1,0.2),(0.8,0.9),(0.9,1), (0,0.3), (0.3,0.6),(0.6,1),(0.45,0.55)]\n",
    "#ranges = [(0.4,0.6),(0.45,0.55),(0.35,0.45)]\n",
    "# ranges = [(0.45,0.55)]\n",
    "\n",
    "# specify upper, lower range.\n",
    "for j in trange(len(model.validation_models)):\n",
    "    for val in tqdm(ranges):\n",
    "        under = np.argwhere(model.validation_models[j].q < val[1])\n",
    "        over = np.argwhere(model.validation_models[j].q > val[0])\n",
    "\n",
    "        both = [i for [i] in under if i in over]\n",
    "        print(both)\n",
    "        output_validation_pseudocommittor(val[0],val[1],both,j)"
   ]
  },
  {
   "cell_type": "code",
   "execution_count": null,
   "id": "ba4c52c7",
   "metadata": {},
   "outputs": [],
   "source": []
  },
  {
   "cell_type": "code",
   "execution_count": null,
   "id": "66cfce27",
   "metadata": {},
   "outputs": [],
   "source": []
  },
  {
   "cell_type": "code",
   "execution_count": null,
   "id": "4d5e9014",
   "metadata": {},
   "outputs": [],
   "source": []
  },
  {
   "cell_type": "code",
   "execution_count": null,
   "id": "f045c411",
   "metadata": {},
   "outputs": [],
   "source": [
    "# OLDER VERSIONS"
   ]
  },
  {
   "cell_type": "code",
   "execution_count": null,
   "id": "08725d92",
   "metadata": {},
   "outputs": [],
   "source": [
    "import h5py\n",
    "from copy import deepcopy\n",
    "import numpy as np\n",
    "import numpy\n",
    "from tqdm.auto import tqdm\n",
    "ranges = [(0.45,0.55),(0,0.2), (0.2,0.4),(0.4,0.6),(0.6,0.8),(0.8,1), (0,0.1),(0.1,0.2),(0.8,0.9),(0.9,1), (0,0.3), (0.3,0.6),(0.6,1)]\n",
    "\n",
    "# specify upper, lower range.\n",
    "for val in tqdm(ranges):\n",
    "    under = np.argwhere(model.q < val[1])\n",
    "    over = np.argwhere(model.q > val[0])\n",
    "\n",
    "    both = [i for [i] in under if i in over]\n",
    "    both\n",
    "    output_pseudocommittor(val[0],val[1],both)"
   ]
  },
  {
   "cell_type": "code",
   "execution_count": null,
   "id": "e9bad62b",
   "metadata": {},
   "outputs": [],
   "source": [
    "ray.shutdown()"
   ]
  },
  {
   "cell_type": "code",
   "execution_count": null,
   "id": "7728de10",
   "metadata": {},
   "outputs": [],
   "source": [
    "# Parsing through the list so we get the real seg number (and the file number as well)\n",
    "import h5py\n",
    "from copy import deepcopy\n",
    "import numpy\n",
    "\n",
    "def output_pseudocommittor(lower, upper, both):\n",
    "    # Finding all the iter/seg_index\n",
    "    output = []\n",
    "    for j in range(0, len(model.dtrajs)):\n",
    "        val = numpy.argwhere(numpy.isin(model.dtrajs[j], both))\n",
    "        #print(j+1, numpy.squeeze(val,axis=1))\n",
    "        output.append([j+1, numpy.squeeze(val, axis=1)])\n",
    "    output2 = [[val[0], seg] for val in output for seg in val[1]]\n",
    "    #output2\n",
    "\n",
    "    file_list = []\n",
    "    for file in model.fileList:\n",
    "        with h5py.File(file,'r') as f:\n",
    "            file_list.append(f['summary']['n_particles'])\n",
    "\n",
    "    output3 = deepcopy(output2)\n",
    "\n",
    "    for j in output3:\n",
    "        seg_index = j[1]\n",
    "        tol = 0\n",
    "        for i in range(0,len(file_list)):\n",
    "            tol += file_list[i][j[0]-1]\n",
    "            #print(i, tol, seg_index)\n",
    "            if seg_index < tol:\n",
    "                #print('break')\n",
    "                break\n",
    "            #print(tol)\n",
    "        if i != 0: \n",
    "            #print('here')\n",
    "            tol -= file_list[i][j[0]-1]\n",
    "            j[1] -= tol\n",
    "        else:\n",
    "            j[1] = seg_index\n",
    "        j.insert(0,i+1)\n",
    "\n",
    "    output3 = numpy.asarray(output3)\n",
    "    with open(f'transition_state/transition_state_{lower}to{upper}.npy','wb') as fo:\n",
    "        numpy.save(fo,output3)\n",
    "    output3"
   ]
  },
  {
   "cell_type": "code",
   "execution_count": null,
   "id": "38136159",
   "metadata": {},
   "outputs": [],
   "source": [
    "# Double check to see that I didn't do something odd\n",
    "numpy.argwhere(output3<0)"
   ]
  },
  {
   "cell_type": "code",
   "execution_count": null,
   "id": "d4a821f5",
   "metadata": {},
   "outputs": [],
   "source": []
  },
  {
   "cell_type": "markdown",
   "id": "26d39064",
   "metadata": {},
   "source": [
    "# Plotting and Stuff"
   ]
  },
  {
   "cell_type": "code",
   "execution_count": null,
   "id": "d9e1a488",
   "metadata": {},
   "outputs": [],
   "source": [
    "# Lets get the list of file all here\n",
    "listf = []\n",
    "for idx in range(1,6):\n",
    "    #listf.append(f\"restart0_scikit_nowat/run{idx}/west_reweight_c10_block_to20_v2-try2_v0.h5\")\n",
    "    listf.append(f\"restart0_scikit_nowat/run{idx}/west_reweight_c10_block_to20_v2-try2_v1.h5\")\n",
    "    #listf.append(f\"restart0_scikit_nowat/run{idx}/west_reweight_c10_block_to20_v2.h5\")\n",
    "    \n",
    "file_path = listf[0].rsplit('.',maxsplit=1)[0]\n",
    "print(file_path)"
   ]
  },
  {
   "cell_type": "code",
   "execution_count": null,
   "id": "4747fbae",
   "metadata": {},
   "outputs": [],
   "source": [
    "# Generating the cool text file\n",
    "import h5py\n",
    "import numpy\n",
    "from tqdm.auto import tqdm\n",
    "\n",
    "aux = 'RoG'\n",
    "\n",
    "with open(f'{file_path}_RoG_iter.dat', 'w') as g:\n",
    "    for idx, stuff in enumerate(listf):\n",
    "        f = h5py.File(stuff, 'r')\n",
    "        for i in tqdm(range(1,301), desc=f\"File {idx+1}\"): # change indices to number of iteration\n",
    "            i = str(i)\n",
    "            iteration = \"iter_\" + str(numpy.char.zfill(i,8))\n",
    "            s = f['iterations'][iteration]['seg_index'].shape[0]\n",
    "            r1 = f['iterations'][iteration]['auxdata'][aux][:,-1] # These are the auxillary coordinates you're looking for\n",
    "            r2 = f['iterations'][iteration]['seg_index']['weight'][:] # These are the auxillary coordinates you're looking for\n",
    "            for j in range(0,s):\n",
    "                array1=[]\n",
    "                array1 = r2 # Weights normalized across whole simulation\n",
    "                g.write(str(array1[j]) + \"\\t\" + str(r1[j]) + \"\\n\")"
   ]
  },
  {
   "cell_type": "code",
   "execution_count": null,
   "id": "8643dcc1",
   "metadata": {},
   "outputs": [],
   "source": [
    "# Loading Data\n",
    "import numpy\n",
    "block_new0_wt, block_new0_data = numpy.loadtxt('restart0_scikit_nowat/run1/west_reweight_c10_block_to20_v2_v0_RoG_iter.dat',usecols=(0,1), unpack=True)\n",
    "block_new1_wt, block_new1_data = numpy.loadtxt('restart0_scikit_nowat/run1/west_reweight_c10_block_to20_v2-try2_v1_RoG_iter.dat',usecols=(0,1), unpack=True)\n",
    "block_main_wt, block_main_data = numpy.loadtxt('restart0_scikit_nowat/run1/west_reweight_c10_block_to20_v2_RoG_iter.dat',usecols=(0,1), unpack=True)\n",
    "\n",
    "global_wt, global_data = numpy.loadtxt('restart0_scikit_nowat/run1/wsh2045_reweight_global_rmsheavy_iter.dat',usecols=(0,1), unpack=True)\n",
    "raw_wt, raw_data = numpy.loadtxt( 'restart0_scikit_nowat/run1/wsh2045_reweight_rmsheavy_iter.dat',usecols=(0,1), unpack=True)"
   ]
  },
  {
   "cell_type": "code",
   "execution_count": null,
   "id": "512a6c8a",
   "metadata": {},
   "outputs": [],
   "source": [
    "block_new0b_wt, block_new0b_data = numpy.loadtxt('restart0_scikit_nowat/run1/west_reweight_c10_block_v0b_mod_rmsheavy_iter.dat',usecols=(0,1), unpack=True)\n",
    "block_new1b_wt, block_new1b_data = numpy.loadtxt('restart0_scikit_nowat/run1/west_reweight_c10_block_v1b_mod_rmsheavy_iter.dat',usecols=(0,1), unpack=True)"
   ]
  },
  {
   "cell_type": "code",
   "execution_count": null,
   "id": "e2d3b64c",
   "metadata": {},
   "outputs": [],
   "source": [
    "# Colors and Labels and other parameters\n",
    "import matplotlib\n",
    "import matplotlib.pyplot as plt\n",
    "wsh2045color = (0,0,0,1)\n",
    "wsh2029color = (0.867,0.317,0.5098,1)\n",
    "wsh2036color = (1,0.431,0.32994,1)\n",
    "wsh2057color = (1,0.651,0,1)\n",
    "wsh2044color = (0.267,0.306,0.525,1)\n",
    "wsh2054color = (0.584,0.3176,0.588,1)\n",
    "colors = [wsh2045color, wsh2054color, wsh2029color, wsh2057color, wsh2044color, wsh2054color]\n",
    "#data = [raw_wt, global_wt, block_main_wt, block_new0_wt, block_new1_wt]\n",
    "plt.rcParams.update({'figure.figsize': [4.5,4.5], 'font.size': 17.5, 'figure.dpi': 300, 'font.family': 'Arial',\n",
    "                     'ytick.major.width': 2, 'xtick.major.width': 2, 'axes.linewidth': 2})\n",
    "labels = [u'Raw', u'Old, Global Aggregated', u'New Stratified Model', u'New Stratified Validation Model 0', u'New Stratified Validation Model 1']\n",
    "transparency=[1,1,0.25,0.5, 0.5]"
   ]
  },
  {
   "cell_type": "code",
   "execution_count": null,
   "id": "f09fb010",
   "metadata": {},
   "outputs": [],
   "source": [
    "# For the Legend\n",
    "from matplotlib.lines import Line2D\n",
    "custom_lines = [Line2D([0], [0], color=colors[1], alpha=transparency[1], lw=4),\n",
    "                Line2D([0], [0], color=colors[2], alpha=transparency[0], lw=4),\n",
    "                Line2D([0], [0], color=colors[3], alpha=transparency[3], lw=4),\n",
    "                Line2D([0], [0], color=colors[4], alpha=transparency[4], lw=4),\n",
    "                Line2D([0], [0], color=colors[0], alpha=transparency[0], lw=4),]\n",
    "\n",
    "labels = [u'all data',\n",
    "          'block 1',\n",
    "          u'block 2',\n",
    "          'run 4',\n",
    "          u'run 5']"
   ]
  },
  {
   "cell_type": "code",
   "execution_count": null,
   "id": "e4b54e78",
   "metadata": {},
   "outputs": [],
   "source": [
    "# Everything\n",
    "for i,dataset in enumerate(data):\n",
    "    plt.hist(dataset,bins=100, color=colors[i], range=(0,0.001), histtype='bar', log=True, alpha=transparency[i], label=labels[i])\n",
    "plt.legend()\n",
    "plt.title('Distribution of Weights');\n",
    "plt.savefig('new_stratified_c10_plots/all_weight_dist.png',dpi=300)"
   ]
  },
  {
   "cell_type": "code",
   "execution_count": null,
   "id": "b9092f0b",
   "metadata": {},
   "outputs": [],
   "source": [
    "# Before Reweighting\n",
    "plt.hist(data[0], bins=300, color=colors[0], range=(0,0.001),log=True)\n",
    "plt.title(labels[0]);\n",
    "plt.xlabel('Weights')\n",
    "plt.ylabel('Counts')\n",
    "plt.savefig('new_stratified_c10_plots/raw_weight_dist.png', dpi=300)"
   ]
  },
  {
   "cell_type": "code",
   "execution_count": null,
   "id": "520ed895",
   "metadata": {},
   "outputs": [],
   "source": [
    "# Global Reweighting (Way before Stratified)\n",
    "plt.hist(data[1], bins=300, color=colors[1], range=(0,0.001), log=True)\n",
    "plt.title(labels[1])\n",
    "plt.xlabel('Weights')\n",
    "plt.ylabel('Counts')\n",
    "plt.savefig('new_stratified_c10_plots/old_global_dist.png',dpi=300)"
   ]
  },
  {
   "cell_type": "code",
   "execution_count": null,
   "id": "c02126e1",
   "metadata": {},
   "outputs": [],
   "source": [
    "# New Stratified Main Model Reweighting\n",
    "plt.hist(data[2], bins=300, color=colors[2], range=(0,0.001), log=True)\n",
    "plt.title(labels[2])\n",
    "plt.xlabel('Weights')\n",
    "plt.ylabel('Counts')\n",
    "plt.savefig('new_stratified_c10_plots/new_main_model_dist.png',dpi=300)"
   ]
  },
  {
   "cell_type": "code",
   "execution_count": null,
   "id": "3b9cd3b7",
   "metadata": {},
   "outputs": [],
   "source": [
    "# New Stratified Validation Model 0 Reweighting\n",
    "plt.hist(data[3], bins=300, color=colors[3], range=(0,0.001), log=True)\n",
    "plt.title(labels[3])\n",
    "plt.xlabel('Weights')\n",
    "plt.ylabel('Counts')\n",
    "plt.savefig('new_stratified_c10_plots/new_model_v0_dist.png',dpi=300)"
   ]
  },
  {
   "cell_type": "code",
   "execution_count": null,
   "id": "05a889eb",
   "metadata": {},
   "outputs": [],
   "source": [
    "# New Stratified Validation Model 1 Reweighting\n",
    "plt.hist(data[4], bins=300, color=colors[4], range=(0,0.001), log=True)\n",
    "plt.title(labels[4])\n",
    "plt.xlabel('Weights')\n",
    "plt.ylabel('Counts')\n",
    "plt.savefig('new_stratified_c10_plots/new_model_v1_dist.png',dpi=300)"
   ]
  },
  {
   "cell_type": "code",
   "execution_count": null,
   "id": "36b0fad9",
   "metadata": {},
   "outputs": [],
   "source": [
    "# Block Reweighting (Main Model + Validation Sets 0 + 1)\n",
    "plt.hist(block_main_wt, bins=300, color=colors[0], range=(0,0.001), log=True, label=labels[2], \n",
    "         alpha=transparency[3])\n",
    "plt.hist(block_new0_wt, bins=300, color=colors[3], range=(0,0.001), log=True, label=labels[3], \n",
    "         alpha=transparency[3])\n",
    "plt.hist(block_new1_wt, bins=300, color=colors[4], range=(0,0.001), log=True, label=labels[4], \n",
    "         alpha=transparency[4])\n",
    "plt.legend()\n",
    "plt.xlabel('probability weights')\n",
    "plt.ylabel('counts')\n",
    "plt.title(u'Block Reweighted (Main + Validation Sets 0 + 1)');\n",
    "#plt.savefig('new_stratified_c10_plots/new_model_all_dist.png',dpi=300)"
   ]
  },
  {
   "cell_type": "code",
   "execution_count": null,
   "id": "ba8ea5fb",
   "metadata": {},
   "outputs": [],
   "source": [
    "# Block Reweighting (Everything)\n",
    "\n",
    "plt.hist(raw_data, bins=100, color=colors[0], histtype='step', weights=raw_wt, label=labels[0])\n",
    "#plt.hist(global_data, bins=100, color=colors[1], histtype='step', weights=global_wt, label=labels[1])\n",
    "plt.hist(block_main_data, bins=100, color=colors[2], weights=block_main_wt, label=labels[2])\n",
    "plt.hist(block_new0_data, bins=100, color=colors[3], histtype = 'step', weights=block_new0_wt, label='Validation Model 0')\n",
    "plt.hist(block_new1_data, bins=100, color=colors[4], histtype = 'step', weights=block_new1_wt, label='Validation Model 1')\n",
    "\n",
    "plt.title(u'RMSD to Folded State');\n",
    "plt.legend()\n",
    "plt.xlabel(u'RMSD to folded state (\\u212B)')\n",
    "plt.ylabel('probability weights')\n",
    "plt.savefig('new_stratified_c10_plots/new_model_rmsd_heavy_dist.png',dpi=300)\n"
   ]
  },
  {
   "cell_type": "code",
   "execution_count": null,
   "id": "82425d24",
   "metadata": {},
   "outputs": [],
   "source": [
    "# Just the main + validation models\n",
    "plt.hist(block_main_data, bins=100, range=(11,18), color=colors[2], histtype = 'step', weights=block_main_wt, label=labels[2])\n",
    "plt.hist(block_new0_data, bins=100, range=(11,18), color=colors[3], histtype = 'step', weights=block_new0_wt, label='Validation Model 0')\n",
    "plt.hist(block_new1_data, bins=100, range=(11,18), color=colors[4], histtype = 'step', weights=block_new1_wt, label='Validation Model 1')\n",
    "\n",
    "#plt.title(u'RMSD to Folded State, Comparison with Same Cluster Models');\n",
    "#plt.legend()\n",
    "#plt.xlabel(u'RMSD to folded state (\\u212B)')\n",
    "#plt.ylabel('probability weights')\n",
    "plt.ylabel('probability')\n",
    "plt.xlabel(r'$\\it{Rg}$ (Å)')\n",
    "plt.legend(custom_lines[1:4], labels[:3], frameon=False)\n",
    "plt.tight_layout()\n",
    "plt.savefig('RoG_block_comp_haMSM_runs.pdf',dpi=300)\n",
    "plt.savefig('RoG_block_comp_haMSM_runs.png', dpi=300)\n",
    "#plt.savefig('new_stratified_c10_plots/new_model_rmsd_heavy_main_dist.png',dpi=300)"
   ]
  },
  {
   "cell_type": "code",
   "execution_count": null,
   "id": "079c2fb2",
   "metadata": {},
   "outputs": [],
   "source": [
    "# Just the main + validation models\n",
    "plt.hist(block_main_data, bins=100, range=(11,17), color=colors[2], histtype = 'step', weights=block_main_wt, label=labels[2])\n",
    "plt.hist(block_new0_data, bins=100, range=(11,17), color=colors[3], histtype = 'step', weights=block_new0_wt, label='Validation Model 0')\n",
    "plt.hist(block_new1_data, bins=100, range=(11,17), color=colors[4], histtype = 'step', weights=block_new1_wt, label='Validation Model 1')\n",
    "\n",
    "plt.title(u'RMSD to Folded State, Comparison with Same Cluster Models');\n",
    "plt.legend()\n",
    "plt.xlabel(u'RMSD to folded state (\\u212B)')\n",
    "plt.ylabel('probability weights')\n",
    "#plt.savefig('new_stratified_c10_plots/new_model_rmsd_heavy_main_dist.png',dpi=300)"
   ]
  },
  {
   "cell_type": "code",
   "execution_count": null,
   "id": "ec05e0e2",
   "metadata": {},
   "outputs": [],
   "source": [
    "plt.hist(block_main_data, bins=100, color=colors[2], weights=block_main_wt, label='Main Model')\n",
    "plt.hist(block_new0b_data, bins=100, color=colors[3], histtype = 'step', weights=block_new0b_wt, label='Validation Model 0b')\n",
    "plt.hist(block_new1b_data, bins=100, color=colors[4], histtype = 'step', weights=block_new1b_wt, label='Validation Model 1b')\n",
    "\n",
    "plt.title(u'RMSD to Folded State, Comparison with Reclustered Models');\n",
    "plt.legend()\n",
    "plt.xlabel(u'RMSD to folded state (\\u212B)')\n",
    "plt.ylabel('probability weights')\n",
    "plt.savefig('new_stratified_c10_plots/new_model_rmsd_heavy_main_dist2.png',dpi=300)"
   ]
  },
  {
   "cell_type": "code",
   "execution_count": null,
   "id": "7817dbec",
   "metadata": {},
   "outputs": [],
   "source": [
    "import numpy\n",
    "import matplotlib.pyplot as plt\n",
    "block_main_sasa_wt, block_main_sasa = numpy.loadtxt('restart0_scikit_nowat/run1/west_reweight_c10_block_mod_totalSASA_iter.dat',usecols=(0,1), unpack=True);\n",
    "block_2029_sasa_wt, block_2029_sasa = numpy.loadtxt('../bdpa_wsh2029_p2_haMSM/restart0_scikit_nowat/run1/west_reweight_c10_block_totalSASA_iter.dat',usecols=(0,1), unpack=True);\n",
    "\n",
    "plt.hist(block_main_sasa, bins=100, color=colors[0], histtype='step', weights=block_main_sasa_wt, label='WT')\n",
    "plt.hist(block_2029_sasa, bins=100, color=colors[1], histtype='step', weights=block_2029_sasa_wt, label='\\u03B2\\u00B3 H2')\n",
    "plt.title(u'Total SASA');\n",
    "plt.legend()\n",
    "plt.xlabel(u'Total SASA (\\u212B\\u00B2)')\n",
    "plt.ylabel('probability weights')\n",
    "plt.savefig('new_stratified_c10_plots/new_model_totalSASA_main_dist.png',dpi=300)"
   ]
  },
  {
   "cell_type": "code",
   "execution_count": null,
   "id": "78ea4621",
   "metadata": {},
   "outputs": [],
   "source": [
    "import numpy\n",
    "import matplotlib.pyplot as plt\n",
    "block_main_RoG_wt, block_main_RoG = numpy.loadtxt('restart0_scikit_nowat/run1/west_reweight_c10_block_mod_RoG_iter.dat',usecols=(0,1), unpack=True);\n",
    "block_2029_RoG_wt, block_2029_RoG = numpy.loadtxt('../bdpa_wsh2029_p2_haMSM/restart0_scikit_nowat/run1/west_reweight_c10_block_RoG_iter.dat',usecols=(0,1), unpack=True);\n",
    "\n",
    "\n",
    "plt.hist(block_main_RoG, bins=100, color=colors[0], histtype = 'step', weights=block_main_RoG_wt, label='WT')\n",
    "plt.hist(block_2029_RoG, bins=100, color=colors[1], histtype = 'step', weights=block_2029_RoG_wt, label=u'\\u03B2\\u00B3 H2')\n",
    "plt.title(u'Radius of Gyration');\n",
    "plt.legend()\n",
    "plt.xlabel(u'RoG (\\u212B)')\n",
    "plt.ylabel('probability weights')\n",
    "plt.savefig('new_stratified_c10_plots/new_model_RoG_main_dist.png',dpi=300)"
   ]
  },
  {
   "cell_type": "code",
   "execution_count": null,
   "id": "f7cae38f",
   "metadata": {},
   "outputs": [],
   "source": [
    "import numpy\n",
    "import matplotlib.pyplot as plt\n",
    "block_main_pCH_wt, block_main_pHC = numpy.loadtxt('restart0_scikit_nowat/run1/west_reweight_c10_block_mod_percentContacts_iter.dat',usecols=(0,1), unpack=True);\n",
    "block_2029_pHC_wt, block_2029_pHC = numpy.loadtxt('../bdpa_wsh2029_p2_haMSM/restart0_scikit_nowat/run1/west_reweight_c10_block_percentContacts_iter.dat',usecols=(0,1), unpack=True);\n",
    "\n",
    "plt.hist(block_main_pHC, bins=100, color=colors[0], histtype = 'step', weights=block_main_RoG_wt, label='WT')\n",
    "plt.hist(block_2029_pHC, bins=100, color=colors[1], histtype = 'step', weights=block_2029_pHC_wt, label=u'\\u03B2\\u00B3 H2')\n",
    "plt.title(u'Percent of Native Contacts');\n",
    "plt.legend()\n",
    "plt.xlabel(u'Percent of Native Contacts')\n",
    "plt.ylabel('probability weights')\n",
    "plt.savefig('new_stratified_c10_plots/new_model_percentContacts_main_dist.png',dpi=300)"
   ]
  },
  {
   "cell_type": "code",
   "execution_count": null,
   "id": "298e002c",
   "metadata": {},
   "outputs": [],
   "source": [
    "import numpy\n",
    "import matplotlib.pyplot as plt\n",
    "block_main_pCH_wt, block_main_pHC = numpy.loadtxt('restart0_scikit_nowat/run1/west_reweight_c10_block_to20_rms_iter.dat',usecols=(0,1), unpack=True);\n",
    "block_main_pCH_wt2, block_main_pHC2 = numpy.loadtxt('restart0_scikit_nowat/run1/west_reweight_c10_block_rms_iter.dat',usecols=(0,1), unpack=True);\n",
    "raw_wt, raw_data = numpy.loadtxt( 'restart0_scikit_nowat/run1/wsh2045_reweight_rmsheavy_iter.dat',usecols=(0,1), unpack=True)\n",
    "\n",
    "plt.hist(block_main_pHC, bins=100, color=colors[0], histtype = 'step', weights=block_main_pCH_wt, label='WT-extended bins')\n",
    "plt.hist(block_main_pHC2, bins=100, color=colors[1], histtype = 'step', weights=block_main_pCH_wt2, label='old WT')\n",
    "plt.hist(raw_data, bins=100, color=colors[3], histtype = 'step', weights=raw_wt, label='Raw')\n",
    "plt.title(u'RMSD to folded state');\n",
    "plt.legend()\n",
    "plt.xlabel(u'RMSD to folded state')\n",
    "plt.ylabel('probability weights')\n",
    "#plt.savefig('new_stratified_c10_plots/new_model_percentContacts_main_dist.png',dpi=300)"
   ]
  },
  {
   "cell_type": "code",
   "execution_count": null,
   "id": "5f5401a1",
   "metadata": {},
   "outputs": [],
   "source": [
    "import numpy\n",
    "import matplotlib.pyplot as plt\n",
    "block_main_pCH_wt, block_main_rms = numpy.loadtxt('restart0_scikit_nowat/run1/west_reweight_c10_block_to20_v2_rms_iter.dat',usecols=(0,1), unpack=True);\n",
    "block_main_pCH_wt, block_main_rms_0b = numpy.loadtxt('west_reweight_c10_block_to20_v2_v0b_rms_iter.dat',usecols=(0,1), unpack=True);\n",
    "block_main_pCH_wt2, block_main_pHC2 = numpy.loadtxt('west_reweight_c10_block_to20_v2_v1b_rms_iter.dat',usecols=(0,1), unpack=True);\n",
    "raw_wt, raw_data = numpy.loadtxt( 'restart0_scikit_nowat/run1/wsh2045_reweight_rmsheavy_iter.dat',usecols=(0,1), unpack=True)\n",
    "\n",
    "plt.hist(block_main_pHC, bins=100, color=colors[0], histtype = 'step', weights=block_main_pCH_wt, label='WT-extended bins')\n",
    "plt.hist(block_main_pHC2, bins=100, color=colors[1], histtype = 'step', weights=block_main_pCH_wt2, label='old WT')\n",
    "plt.hist(raw_data, bins=100, color=colors[3], histtype = 'step', weights=raw_wt, label='Raw')\n",
    "plt.title(u'RMSD to folded state');\n",
    "plt.legend()\n",
    "plt.xlabel(u'RMSD to folded state')\n",
    "plt.ylabel('probability weights')\n",
    "#plt.savefig('new_stratified_c10_plots/new_model_percentContacts_main_dist.png',dpi=300)"
   ]
  },
  {
   "cell_type": "code",
   "execution_count": null,
   "id": "eb5e6931",
   "metadata": {},
   "outputs": [],
   "source": [
    "model.fluxMatrix"
   ]
  },
  {
   "cell_type": "code",
   "execution_count": null,
   "id": "0ce3260f",
   "metadata": {},
   "outputs": [],
   "source": [
    "model.Tmatrix[0,1]"
   ]
  },
  {
   "cell_type": "code",
   "execution_count": null,
   "id": "96a2af2c",
   "metadata": {},
   "outputs": [],
   "source": [
    "model.Tmatrix[1,0]\n"
   ]
  },
  {
   "cell_type": "code",
   "execution_count": null,
   "id": "2fd576cb",
   "metadata": {},
   "outputs": [],
   "source": [
    "import pyemma\n",
    "import msmtools\n",
    "import numpy"
   ]
  },
  {
   "cell_type": "code",
   "execution_count": null,
   "id": "95c17bc1",
   "metadata": {},
   "outputs": [],
   "source": [
    "sym_matrix = (model.Tmatrix.T + model.Tmatrix) \n",
    "sym_matrix = sym_matrix/sym_matrix.sum(axis=1, keepdims=1)\n",
    "msmtools.analysis.is_transition_matrix(sym_matrix)"
   ]
  },
  {
   "cell_type": "code",
   "execution_count": null,
   "id": "24f76414",
   "metadata": {},
   "outputs": [],
   "source": [
    "import pyemma\n",
    "import msmtools\n",
    "pcca_model = pyemma.msm.markov_model(sym_matrix,'100 ps')\n",
    "pcca_model.is_reversible = True"
   ]
  },
  {
   "cell_type": "code",
   "execution_count": null,
   "id": "1e58440a",
   "metadata": {},
   "outputs": [],
   "source": [
    "pcca_model"
   ]
  },
  {
   "cell_type": "code",
   "execution_count": null,
   "id": "5565d591",
   "metadata": {},
   "outputs": [],
   "source": [
    "nstates=10\n",
    "pcca_model.pcca(nstates)"
   ]
  },
  {
   "cell_type": "code",
   "execution_count": null,
   "id": "6eb9f329",
   "metadata": {},
   "outputs": [],
   "source": [
    "pcca_model._metastable_memberships[0]"
   ]
  },
  {
   "cell_type": "markdown",
   "id": "63e7b578",
   "metadata": {},
   "source": [
    "# Now to test new things"
   ]
  },
  {
   "cell_type": "code",
   "execution_count": null,
   "id": "1d754fe5",
   "metadata": {},
   "outputs": [],
   "source": [
    "import weight_loop\n",
    "weight_loop.create_reweighted_h5_global(model,new_name='west_reweight_block_new.h5')"
   ]
  },
  {
   "cell_type": "markdown",
   "id": "e2fe23c1",
   "metadata": {},
   "source": [
    "# TROUBLE SHOOTING"
   ]
  },
  {
   "cell_type": "code",
   "execution_count": null,
   "id": "883b8245",
   "metadata": {},
   "outputs": [],
   "source": [
    "model.get_eqTmatrix()\n",
    "model.Tmatrix.shape"
   ]
  },
  {
   "cell_type": "code",
   "execution_count": null,
   "id": "3fa5de34",
   "metadata": {},
   "outputs": [],
   "source": [
    "model.indBasis, model.indTargets = np.array([]),np.array([])"
   ]
  },
  {
   "cell_type": "code",
   "execution_count": null,
   "id": "cfc84570",
   "metadata": {},
   "outputs": [],
   "source": [
    "model.pSS"
   ]
  },
  {
   "cell_type": "code",
   "execution_count": null,
   "id": "13de1dfc",
   "metadata": {},
   "outputs": [],
   "source": [
    "model.Tmatrix.shape\n"
   ]
  },
  {
   "cell_type": "code",
   "execution_count": null,
   "id": "dbb90963",
   "metadata": {},
   "outputs": [],
   "source": [
    "model.Tmatrix[-1]\n"
   ]
  },
  {
   "cell_type": "code",
   "execution_count": null,
   "id": "83f8f1ae",
   "metadata": {},
   "outputs": [],
   "source": [
    "model.Tmatrix[0]"
   ]
  },
  {
   "cell_type": "code",
   "execution_count": null,
   "id": "c379679e",
   "metadata": {},
   "outputs": [],
   "source": [
    "import numpy\n",
    "a = []\n",
    "for w in range(0,len(model.dtrajs)):\n",
    "    a = numpy.append(a, model.dtrajs[w])\n",
    "\n",
    "for z in range(0,131):\n",
    "    if z not in a:\n",
    "        print(z)"
   ]
  }
 ],
 "metadata": {
  "kernelspec": {
   "display_name": "Python 3 (ipykernel)",
   "language": "python",
   "name": "python3"
  },
  "language_info": {
   "codemirror_mode": {
    "name": "ipython",
    "version": 3
   },
   "file_extension": ".py",
   "mimetype": "text/x-python",
   "name": "python",
   "nbconvert_exporter": "python",
   "pygments_lexer": "ipython3",
   "version": "3.11.3"
  }
 },
 "nbformat": 4,
 "nbformat_minor": 5
}
